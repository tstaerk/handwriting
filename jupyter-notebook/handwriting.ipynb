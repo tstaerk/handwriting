{
 "cells": [
  {
      "cell_type": "markdown",
      "metadata": {
        "id": "AAAAAAAAAAAB"
      },
      "source": [
        "# handwriting\n",
        "\n",
        "[![Open in Colab](https://img.shields.io/badge/Open%20in%20Colab-%23F9AB00.svg?logo=googlecolab&logoColor=white)](https://colab.research.google.com/github/tstaerk/handwriting/blob/main/jupyter-notebook/handwriting.ipynb)\n",
        "[![View on GitHub](https://img.shields.io/badge/View%20on%20GitHub-181717.svg?logo=github&logoColor=white)](https://github.com/tstaerk/handwriting/tree/main/jupyter-notebook)\n",
        "\n",
        "Notebook for handwriting recognition via AI\n",
        "\n"
      ]
  },
  {
   "cell_type": "code",
   "execution_count": 2,
   "id": "d2056099-799b-4da8-8b2c-10510cef1748",
   "metadata": {},
   "outputs": [],
   "source": [
    "import os\n",
    "os.environ[\"CUDA_VISIBLE_DEVICES\"] = \"-1\"  # Disable GPU\n",
    "\n",
    "import numpy as np\n",
    "import matplotlib.pyplot as plt\n",
    "from tensorflow.keras.datasets import mnist\n",
    "from tensorflow.keras.models import Sequential\n",
    "from tensorflow.keras.layers import Dense, Flatten\n",
    "from tensorflow.keras.utils import to_categorical\n"
   ]
  },
  {
   "cell_type": "code",
   "execution_count": null,
   "id": "4fde5d52-0c38-4046-8fd4-c547d83d0056",
   "metadata": {},
   "outputs": [],
   "source": [
    "# Load the MNIST dataset\n",
    "(input_train, label_train), (input_test, label_test) = mnist.load_data()\n",
    "\n",
    "# Check the shape of the data\n",
    "print(\"Training data shape:\", input_train.shape)\n",
    "print(\"Testing data shape:\", input_test.shape)\n",
    "\n",
    "# Visualize the first training example\n",
    "for i in range(1):\n",
    "  plt.imshow(input_train[i], cmap='gray')\n",
    "  plt.title(f\"Label: {label_train[i]}\")\n",
    "  plt.colorbar()\n",
    "  plt.show()\n"
   ]
  },
  {
   "cell_type": "code",
   "execution_count": null,
   "id": "3498cf9c-7ba4-4a15-9621-b0b08e033caf",
   "metadata": {},
   "outputs": [],
   "source": [
    "# Normalize pixel values to the range [0, 1]\n",
    "input_train = input_train / 255.0\n",
    "input_test = input_test / 255.0\n",
    "\n",
    "# One-hot encode the labels\n",
    "label_train = to_categorical(label_train, 10)\n",
    "label_test = to_categorical(label_test, 10)\n"
   ]
  },
  {
   "cell_type": "code",
   "execution_count": null,
   "id": "3f63c13d-8b0e-419c-a088-27bb221dcd17",
   "metadata": {},
   "outputs": [],
   "source": [
    "# Build the model\n",
    "\n",
    "from tensorflow.keras import Input\n",
    "\n",
    "# Define the model with an explicit Input layer\n",
    "model = Sequential([\n",
    "    Input(shape=(28, 28)),         # Explicit Input layer\n",
    "    Flatten(),                     # Flatten the input\n",
    "    Dense(128, activation='relu'), # Hidden layer with 128 neurons\n",
    "    Dense(10, activation='softmax') # Output layer with 10 classes\n",
    "])\n",
    "\n",
    "# Compile the model\n",
    "model.compile(optimizer='adam', loss='categorical_crossentropy', metrics=['accuracy'])\n",
    "\n",
    "# Summary of the model\n",
    "model.summary()\n"
   ]
  },
  {
   "cell_type": "code",
   "execution_count": null,
   "id": "dde2cbff-91ba-4b36-8a21-a1d592f02d7a",
   "metadata": {},
   "outputs": [],
   "source": [
    "# Train the model\n",
    "history = model.fit(input_train, label_train, epochs=5, validation_split=0.2)\n",
    "\n",
    "# Visualize the training process\n",
    "plt.plot(history.history['accuracy'], label='Training Accuracy')\n",
    "plt.plot(history.history['val_accuracy'], label='Validation Accuracy')\n",
    "plt.xlabel('Epochs')\n",
    "plt.ylabel('Accuracy')\n",
    "plt.legend()\n",
    "plt.show()\n"
   ]
  },
  {
   "cell_type": "code",
   "execution_count": null,
   "id": "d36bbe51-4b64-4c6a-81a9-9e31a5387d4b",
   "metadata": {},
   "outputs": [],
   "source": [
    "# Evaluate the test set\n",
    "test_loss, test_acc = model.evaluate(input_test, label_test)\n",
    "print(f\"Test Accuracy: {test_acc * 100:.2f}%\")\n"
   ]
  },
  {
   "cell_type": "code",
   "execution_count": null,
   "id": "6dd20475-f9dc-4685-ab21-dc90501713bc",
   "metadata": {},
   "outputs": [],
   "source": [
    "# Predict the labels for the test set\n",
    "predictions = model.predict(input_test)\n",
    "\n",
    "# Visualize a test example and its prediction\n",
    "index =8  # Change this index to test different images\n",
    "plt.imshow(input_test[index], cmap='gray')\n",
    "plt.title(f\"Predicted: {np.argmax(predictions[index])}, Actual: {np.argmax(label_test[index])}\")\n",
    "plt.show()\n"
   ]
  },
  {
   "cell_type": "code",
   "execution_count": null,
   "id": "8c6433e6-383b-4fbc-946d-c7713bca30d4",
   "metadata": {},
   "outputs": [],
   "source": [
    "model.save(\"handwriting_model.h5\")\n"
   ]
  },
  {
   "cell_type": "code",
   "execution_count": null,
   "id": "7069d001-9015-4d4e-b3b8-c42ba4b0556e",
   "metadata": {},
   "outputs": [],
   "source": [
    "from PIL import Image\n",
    "\n",
    "# Load and preprocess your custom image\n",
    "img = Image.open('digit.png').convert('L')  # Convert to grayscale\n",
    "img = img.resize((28, 28))  # Resize to 28x28 pixels\n",
    "img_array = np.array(img) / 255.0  # Normalize pixel values\n",
    "img_array = img_array.reshape(1, 28, 28)  # Reshape for the model\n",
    "\n",
    "# Predict\n",
    "prediction = model.predict(img_array)\n",
    "print(f\"Predicted Digit: {np.argmax(prediction)}\")\n",
    "\n",
    "# Visualize the input image\n",
    "plt.imshow(img, cmap='gray')\n",
    "plt.title(\"Your Handwritten Digit\")\n",
    "plt.show()\n"
   ]
  },
  {
   "cell_type": "code",
   "execution_count": null,
   "id": "24fc71a0-2d1f-45b5-b08c-7854b58a63c1",
   "metadata": {},
   "outputs": [],
   "source": []
  }
 ],
 "metadata": {
  "kernelspec": {
   "display_name": "Python 3 (ipykernel)",
   "language": "python",
   "name": "python3"
  },
  "language_info": {
   "codemirror_mode": {
    "name": "ipython",
    "version": 3
   },
   "file_extension": ".py",
   "mimetype": "text/x-python",
   "name": "python",
   "nbconvert_exporter": "python",
   "pygments_lexer": "ipython3",
   "version": "3.10.12"
  }
 },
 "nbformat": 4,
 "nbformat_minor": 5
}
